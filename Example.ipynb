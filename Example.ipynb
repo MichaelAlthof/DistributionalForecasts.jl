{
 "cells": [
  {
   "cell_type": "markdown",
   "metadata": {},
   "source": [
    "# DistributionalForecasts.jl\n",
    "\n",
    "[![GitHub](http://pkg.julialang.org/badges/GitHub_0.6.svg)](http://pkg.julialang.org/detail/GitHub)\n",
    "\n",
    "The code has been developed in Julia 0.6.4. version, as a code accompanying the Anatolyev and Barunik (2018) paper, and provides an estimation and inference for a model forecasting conditional probability distributions of asset returns (henceforth AB model). For further details, see\n",
    "\n",
    "Anatolyev, S. and Barunik, J. (2018): *Forecasting dynamic return distributions based on ordered binary choice and  cross-quantile predictability connection*, manuscript [available here for download](https://ideas.repec.org/p/arx/papers/1711.05681.html) (Oct 2018)\n",
    "\n",
    "\n",
    "## Software requirements\n",
    "\n",
    "[Julia](http://julialang.org/) together with few packages needs to be installed\n",
    "\n",
    "````julia\n",
    "Pkg.add(\"DataFrames\")\n",
    "Pkg.add(\"CSV\")\n",
    "Pkg.add(\"GLM\")\n",
    "Pkg.add(\"Optim\")\n",
    "````\n",
    "\n",
    "## Example: Forecasting dynamic return distributions"
   ]
  },
  {
   "cell_type": "markdown",
   "metadata": {},
   "source": [
    "Note the full example is available as an interactive [IJulia](https://github.com/JuliaLang/IJulia.jl) notebook [here](https://github.com/barunik/DistributionalForecasts.jl/blob/master/Example.ipynb)\n",
    "\n",
    "\n",
    "Load required packages"
   ]
  },
  {
   "cell_type": "code",
   "execution_count": 1,
   "metadata": {},
   "outputs": [],
   "source": [
    "using DataFrames, CSV, GLM, Optim \n",
    "\n",
    "# load main functions\n",
    "include(\"DistributionalForecasts.jl\");"
   ]
  },
  {
   "cell_type": "markdown",
   "metadata": {},
   "source": [
    "Load example data (returns of XOM)"
   ]
  },
  {
   "cell_type": "code",
   "execution_count": 2,
   "metadata": {},
   "outputs": [],
   "source": [
    "data = CSV.read(\"data_30stocks_returns.txt\");\n",
    "tdim, rdim = size(data)"
   ]
  },
  {
   "cell_type": "markdown",
   "metadata": {},
   "source": [
    "Choose number of cutoff levels and order of polynomials"
   ]
  },
  {
   "cell_type": "code",
   "execution_count": 3,
   "metadata": {},
   "outputs": [],
   "source": [
    "# no. of quantiles\n",
    "js = 37;\n",
    "\n",
    "# choice of polynomial order\n",
    "p1=2;\n",
    "p2=3;"
   ]
  },
  {
   "cell_type": "markdown",
   "metadata": {},
   "source": [
    "## Parameter Estimation"
   ]
  },
  {
   "cell_type": "markdown",
   "metadata": {},
   "source": [
    "Obtain fast parameter estimates of AB without inference. A vector of $js+p1+p2+2$ parameters is returned:\n",
    "\n",
    "$$\\delta_{0,1},\\delta_{0,2},...,\\delta_{0,js},\\kappa_{0,1},...\\kappa_{p1+1,1},\\kappa_{0,2},...\\kappa_{p2+1,2}$$\n",
    "\n"
   ]
  },
  {
   "cell_type": "code",
   "execution_count": 4,
   "metadata": {},
   "outputs": [
    {
     "data": {
      "text/plain": [
       "1×44 RowVector{Float64,Array{Float64,1}}:\n",
       " -2.87124  -2.48832  -2.2352  -2.0323  …  -17.5198  -16.8475  25.976"
      ]
     },
     "execution_count": 4,
     "metadata": {},
     "output_type": "execute_result"
    }
   ],
   "source": [
    "par=OrderedLogitparameters(data[:,30].*1.0,js,p1,p2)\n",
    "par'"
   ]
  },
  {
   "cell_type": "markdown",
   "metadata": {},
   "source": [
    "## Inference"
   ]
  },
  {
   "cell_type": "markdown",
   "metadata": {},
   "source": [
    "Estimate the AB model and obtain full inference and evaluation of fit"
   ]
  },
  {
   "cell_type": "code",
   "execution_count": 5,
   "metadata": {},
   "outputs": [],
   "source": [
    "est=OrderedLogit(data[:,30].*1.0, js,p1,p2);"
   ]
  },
  {
   "cell_type": "markdown",
   "metadata": {},
   "source": [
    "Estimates of intercepts $\\delta_{0,1},\\delta_{0,2},...,\\delta_{0,js}$"
   ]
  },
  {
   "cell_type": "code",
   "execution_count": 6,
   "metadata": {},
   "outputs": [
    {
     "data": {
      "text/plain": [
       "1×37 RowVector{Float64,Array{Float64,1}}:\n",
       " -2.87124  -2.48832  -2.2352  -2.0323  …  2.10511  2.47381  2.57944  3.04193"
      ]
     },
     "execution_count": 6,
     "metadata": {},
     "output_type": "execute_result"
    }
   ],
   "source": [
    "est[1][1:js]'"
   ]
  },
  {
   "cell_type": "markdown",
   "metadata": {},
   "source": [
    "Estimates of $\\kappa_{0,1},...\\kappa_{p1+1,1},\\kappa_{0,2},...\\kappa_{p2+1,2}$"
   ]
  },
  {
   "cell_type": "code",
   "execution_count": 7,
   "metadata": {},
   "outputs": [
    {
     "data": {
      "text/plain": [
       "1×7 RowVector{Float64,Array{Float64,1}}:\n",
       " -0.0528382  -0.116755  0.0523652  0.108634  -17.5198  -16.8475  25.976"
      ]
     },
     "execution_count": 7,
     "metadata": {},
     "output_type": "execute_result"
    }
   ],
   "source": [
    "est[1][(js+1):(js+p1+p2+2)]'"
   ]
  },
  {
   "cell_type": "markdown",
   "metadata": {},
   "source": [
    "standard errors for all coefficients"
   ]
  },
  {
   "cell_type": "code",
   "execution_count": 8,
   "metadata": {},
   "outputs": [
    {
     "data": {
      "text/plain": [
       "1×44 RowVector{Float64,Array{Float64,1}}:\n",
       " 0.117504  0.101611  0.0915005  …  8.10445  5.70739  7.8312  9.23371"
      ]
     },
     "execution_count": 8,
     "metadata": {},
     "output_type": "execute_result"
    }
   ],
   "source": [
    "est[2]'"
   ]
  },
  {
   "cell_type": "markdown",
   "metadata": {},
   "source": [
    "T-stats"
   ]
  },
  {
   "cell_type": "code",
   "execution_count": 9,
   "metadata": {},
   "outputs": [
    {
     "data": {
      "text/plain": [
       "1×44 RowVector{Float64,Array{Float64,1}}:\n",
       " -24.4352  -24.4886  -24.4283  -23.1584  …  -3.06967  -2.15133  2.81317"
      ]
     },
     "execution_count": 9,
     "metadata": {},
     "output_type": "execute_result"
    }
   ],
   "source": [
    "est[3]'"
   ]
  },
  {
   "cell_type": "markdown",
   "metadata": {},
   "source": [
    "Log Likelihood"
   ]
  },
  {
   "cell_type": "code",
   "execution_count": 11,
   "metadata": {},
   "outputs": [
    {
     "data": {
      "text/plain": [
       "10285.797921780777"
      ]
     },
     "execution_count": 11,
     "metadata": {},
     "output_type": "execute_result"
    }
   ],
   "source": [
    "est[4]"
   ]
  },
  {
   "cell_type": "markdown",
   "metadata": {},
   "source": [
    "Information criteria (AIC/BIC)"
   ]
  },
  {
   "cell_type": "code",
   "execution_count": 12,
   "metadata": {},
   "outputs": [
    {
     "data": {
      "text/plain": [
       "2-element Array{Any,1}:\n",
       " -20482.2\n",
       " -20222.0"
      ]
     },
     "execution_count": 12,
     "metadata": {},
     "output_type": "execute_result"
    }
   ],
   "source": [
    "est[5:6]"
   ]
  },
  {
   "cell_type": "markdown",
   "metadata": {},
   "source": [
    "## Recover Probabilities Predicted by the AB model"
   ]
  },
  {
   "cell_type": "markdown",
   "metadata": {},
   "source": [
    "Obtain forecast of return distribution for time $t+1$ based on the in-sample window"
   ]
  },
  {
   "cell_type": "code",
   "execution_count": 16,
   "metadata": {},
   "outputs": [
    {
     "data": {
      "text/plain": [
       "1×37 Array{Float64,2}:\n",
       " 0.0670917  0.0868857  0.108024  0.124577  …  0.928052  0.928632  0.951298"
      ]
     },
     "execution_count": 16,
     "metadata": {},
     "output_type": "execute_result"
    }
   ],
   "source": [
    "window=500\n",
    "INS=data[1:window,30].*1\n",
    "OOS=data[window:(window+1),30].*1\n",
    "\n",
    "probs=forecastProbs(INS,OOS,js,p1,p2)"
   ]
  },
  {
   "cell_type": "markdown",
   "metadata": {},
   "source": [
    "## Statistical Evaluation"
   ]
  },
  {
   "cell_type": "markdown",
   "metadata": {},
   "source": [
    "A number of statistical tests from Gneiting and Raftery (2007), and Gonzalez-Rivera and Sun (2015) are implemented in the *main.jl* file. \n",
    "\n",
    "TBD\n",
    "\n",
    "Gonzalez-Rivera, G. and Y. Sun (2015). Generalized autocontours: Evaluation of multivari- ate density models. International Journal of Forecasting 31(3), 799–814.\n",
    "\n",
    "Gneiting, T. and A. Raftery (2007). Strictly proper scoring rules, prediction, and estimation. Journal of American Statistical Association 102 (477), 359–378.\n"
   ]
  },
  {
   "cell_type": "code",
   "execution_count": null,
   "metadata": {},
   "outputs": [],
   "source": []
  }
 ],
 "metadata": {
  "kernelspec": {
   "display_name": "Julia 0.6.4",
   "language": "julia",
   "name": "julia-0.6"
  },
  "language_info": {
   "file_extension": ".jl",
   "mimetype": "application/julia",
   "name": "julia",
   "version": "0.6.4"
  }
 },
 "nbformat": 4,
 "nbformat_minor": 2
}
